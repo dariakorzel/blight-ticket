{
 "cells": [
  {
   "cell_type": "markdown",
   "metadata": {},
   "source": [
    "---\n",
    "\n",
    "_You are currently looking at **version 1.1** of this notebook. To download notebooks and datafiles, as well as get help on Jupyter notebooks in the Coursera platform, visit the [Jupyter Notebook FAQ](https://www.coursera.org/learn/python-machine-learning/resources/bANLa) course resource._\n",
    "\n",
    "---"
   ]
  },
  {
   "cell_type": "markdown",
   "metadata": {},
   "source": [
    "## Assignment 4 - Understanding and Predicting Property Maintenance Fines\n",
    "\n",
    "This assignment is based on a data challenge from the Michigan Data Science Team ([MDST](http://midas.umich.edu/mdst/)). \n",
    "\n",
    "The Michigan Data Science Team ([MDST](http://midas.umich.edu/mdst/)) and the Michigan Student Symposium for Interdisciplinary Statistical Sciences ([MSSISS](https://sites.lsa.umich.edu/mssiss/)) have partnered with the City of Detroit to help solve one of the most pressing problems facing Detroit - blight. [Blight violations](http://www.detroitmi.gov/How-Do-I/Report/Blight-Complaint-FAQs) are issued by the city to individuals who allow their properties to remain in a deteriorated condition. Every year, the city of Detroit issues millions of dollars in fines to residents and every year, many of these fines remain unpaid. Enforcing unpaid blight fines is a costly and tedious process, so the city wants to know: how can we increase blight ticket compliance?\n",
    "\n",
    "The first step in answering this question is understanding when and why a resident might fail to comply with a blight ticket. This is where predictive modeling comes in. For this assignment, your task is to predict whether a given blight ticket will be paid on time.\n",
    "\n",
    "All data for this assignment has been provided to us through the [Detroit Open Data Portal](https://data.detroitmi.gov/). **Only the data already included in your Coursera directory can be used for training the model for this assignment.** Nonetheless, we encourage you to look into data from other Detroit datasets to help inform feature creation and model selection. We recommend taking a look at the following related datasets:\n",
    "\n",
    "* [Building Permits](https://data.detroitmi.gov/Property-Parcels/Building-Permits/xw2a-a7tf)\n",
    "* [Trades Permits](https://data.detroitmi.gov/Property-Parcels/Trades-Permits/635b-dsgv)\n",
    "* [Improve Detroit: Submitted Issues](https://data.detroitmi.gov/Government/Improve-Detroit-Submitted-Issues/fwz3-w3yn)\n",
    "* [DPD: Citizen Complaints](https://data.detroitmi.gov/Public-Safety/DPD-Citizen-Complaints-2016/kahe-efs3)\n",
    "* [Parcel Map](https://data.detroitmi.gov/Property-Parcels/Parcel-Map/fxkw-udwf)\n",
    "\n",
    "___\n",
    "\n",
    "We provide you with two data files for use in training and validating your models: train.csv and test.csv. Each row in these two files corresponds to a single blight ticket, and includes information about when, why, and to whom each ticket was issued. The target variable is compliance, which is True if the ticket was paid early, on time, or within one month of the hearing data, False if the ticket was paid after the hearing date or not at all, and Null if the violator was found not responsible. Compliance, as well as a handful of other variables that will not be available at test-time, are only included in train.csv.\n",
    "\n",
    "Note: All tickets where the violators were found not responsible are not considered during evaluation. They are included in the training set as an additional source of data for visualization, and to enable unsupervised and semi-supervised approaches. However, they are not included in the test set.\n",
    "\n",
    "<br>\n",
    "\n",
    "**File descriptions** (Use only this data for training your model!)\n",
    "\n",
    "    readonly/train.csv - the training set (all tickets issued 2004-2011)\n",
    "    readonly/test.csv - the test set (all tickets issued 2012-2016)\n",
    "    readonly/addresses.csv & readonly/latlons.csv - mapping from ticket id to addresses, and from addresses to lat/lon coordinates. \n",
    "     Note: misspelled addresses may be incorrectly geolocated.\n",
    "\n",
    "<br>\n",
    "\n",
    "**Data fields**\n",
    "\n",
    "train.csv & test.csv\n",
    "\n",
    "    ticket_id - unique identifier for tickets\n",
    "    agency_name - Agency that issued the ticket\n",
    "    inspector_name - Name of inspector that issued the ticket\n",
    "    violator_name - Name of the person/organization that the ticket was issued to\n",
    "    violation_street_number, violation_street_name, violation_zip_code - Address where the violation occurred\n",
    "    mailing_address_str_number, mailing_address_str_name, city, state, zip_code, non_us_str_code, country - Mailing address of the violator\n",
    "    ticket_issued_date - Date and time the ticket was issued\n",
    "    hearing_date - Date and time the violator's hearing was scheduled\n",
    "    violation_code, violation_description - Type of violation\n",
    "    disposition - Judgment and judgement type\n",
    "    fine_amount - Violation fine amount, excluding fees\n",
    "    admin_fee - $20 fee assigned to responsible judgments\n",
    "state_fee - $10 fee assigned to responsible judgments\n",
    "    late_fee - 10% fee assigned to responsible judgments\n",
    "    discount_amount - discount applied, if any\n",
    "    clean_up_cost - DPW clean-up or graffiti removal cost\n",
    "    judgment_amount - Sum of all fines and fees\n",
    "    grafitti_status - Flag for graffiti violations\n",
    "    \n",
    "train.csv only\n",
    "\n",
    "    payment_amount - Amount paid, if any\n",
    "    payment_date - Date payment was made, if it was received\n",
    "    payment_status - Current payment status as of Feb 1 2017\n",
    "    balance_due - Fines and fees still owed\n",
    "    collection_status - Flag for payments in collections\n",
    "    compliance [target variable for prediction] \n",
    "     Null = Not responsible\n",
    "     0 = Responsible, non-compliant\n",
    "     1 = Responsible, compliant\n",
    "    compliance_detail - More information on why each ticket was marked compliant or non-compliant\n",
    "\n",
    "\n",
    "___\n",
    "\n",
    "## Evaluation\n",
    "\n",
    "Your predictions will be given as the probability that the corresponding blight ticket will be paid on time.\n",
    "\n",
    "The evaluation metric for this assignment is the Area Under the ROC Curve (AUC). \n",
    "\n",
    "Your grade will be based on the AUC score computed for your classifier. A model which with an AUROC of 0.7 passes this assignment, over 0.75 will recieve full points.\n",
    "___\n",
    "\n",
    "For this assignment, create a function that trains a model to predict blight ticket compliance in Detroit using `readonly/train.csv`. Using this model, return a series of length 61001 with the data being the probability that each corresponding ticket from `readonly/test.csv` will be paid, and the index being the ticket_id.\n",
    "\n",
    "Example:\n",
    "\n",
    "    ticket_id\n",
    "       284932    0.531842\n",
    "       285362    0.401958\n",
    "       285361    0.105928\n",
    "       285338    0.018572\n",
    "                 ...\n",
    "       376499    0.208567\n",
    "       376500    0.818759\n",
    "       369851    0.018528\n",
    "       Name: compliance, dtype: float32\n",
    "       \n",
    "### Hints\n",
    "\n",
    "* Make sure your code is working before submitting it to the autograder.\n",
    "\n",
    "* Print out your result to see whether there is anything weird (e.g., all probabilities are the same).\n",
    "\n",
    "* Generally the total runtime should be less than 10 mins. You should NOT use Neural Network related classifiers (e.g., MLPClassifier) in this question. \n",
    "\n",
    "* Try to avoid global variables. If you have other functions besides blight_model, you should move those functions inside the scope of blight_model.\n",
    "\n",
    "* Refer to the pinned threads in Week 4's discussion forum when there is something you could not figure it out."
   ]
  },
  {
   "cell_type": "markdown",
   "metadata": {},
   "source": [
    "## Data cleaning"
   ]
  },
  {
   "cell_type": "code",
   "execution_count": 1,
   "metadata": {
    "collapsed": true
   },
   "outputs": [],
   "source": [
    "import pandas as pd\n",
    "import numpy as np\n",
    "from sklearn import preprocessing\n",
    "from sklearn.metrics import roc_auc_score"
   ]
  },
  {
   "cell_type": "code",
   "execution_count": 2,
   "metadata": {
    "collapsed": false
   },
   "outputs": [],
   "source": [
    "submit = 0\n",
    "prefix = \"\"\n",
    "if submit == 0:\n",
    "    prefix = \"readonly/\"\n",
    "    \n",
    "train = pd.read_csv(prefix + 'train.csv', encoding = 'ISO-8859-1', low_memory = False)\n",
    "test = pd.read_csv(prefix + 'test.csv')\n",
    "addresses = pd.read_csv(prefix + 'addresses.csv')\n",
    "latlon = pd.read_csv(prefix + 'latlons.csv')\n",
    "train.drop(['payment_amount', 'payment_date', 'payment_status', 'balance_due', 'collection_status', 'compliance_detail'], 1, inplace=True)"
   ]
  },
  {
   "cell_type": "code",
   "execution_count": 358,
   "metadata": {
    "collapsed": false
   },
   "outputs": [],
   "source": [
    "train = train[np.isfinite(train['compliance'])]\n",
    "train['compliance'] = train['compliance'].astype('Int64')"
   ]
  },
  {
   "cell_type": "code",
   "execution_count": 359,
   "metadata": {
    "collapsed": false
   },
   "outputs": [],
   "source": [
    "train = pd.merge(train, addresses, on ='ticket_id', how ='inner')\n",
    "train = pd.merge(train, latlon, on ='address', how ='inner')\n",
    "\n",
    "test = pd.merge(test, addresses, on ='ticket_id', how ='inner')\n",
    "test = pd.merge(test, latlon, on ='address', how ='inner')"
   ]
  },
  {
   "cell_type": "code",
   "execution_count": 360,
   "metadata": {
    "collapsed": true
   },
   "outputs": [],
   "source": [
    "def data_clean(data):\n",
    "#     data.dropna(subset=['violator_name', 'mailing_address_str_name', 'hearing_date'], inplace=True)\n",
    "    data.drop(['city', 'state','country', 'mailing_address_str_number',\n",
    "               'violation_zip_code', 'non_us_str_code', 'grafitti_status'], 1, inplace=True)\n",
    "    data['lat'].fillna((data['lat'].mean()), inplace=True)\n",
    "    data['lon'].fillna((data['lon'].mean()), inplace=True)\n",
    "    \n",
    "    return data"
   ]
  },
  {
   "cell_type": "code",
   "execution_count": 361,
   "metadata": {
    "collapsed": true
   },
   "outputs": [],
   "source": [
    "def create_simple(data):\n",
    "    data = data.select_dtypes(exclude=['object'])\n",
    "    \n",
    "    return data"
   ]
  },
  {
   "cell_type": "code",
   "execution_count": 362,
   "metadata": {
    "collapsed": true
   },
   "outputs": [],
   "source": [
    "def one_hot_encoding(data, col1, col2):\n",
    "    categorical_columns = [col1, col2]\n",
    "    df = pd.get_dummies(data, columns=categorical_columns)\n",
    "    \n",
    "    return df"
   ]
  },
  {
   "cell_type": "code",
   "execution_count": 363,
   "metadata": {
    "collapsed": true
   },
   "outputs": [],
   "source": [
    "def label_encoder(data, col, col_name, le=None):\n",
    "    # If encoder was not provided\n",
    "    if not le:\n",
    "        le = preprocessing.LabelEncoder()\n",
    "    le_input = data[col].tolist()\n",
    "    le.fit(le_input)\n",
    "    le_output = le.transform(le_input)\n",
    "    data[col_name] = le_output\n",
    "    data.drop(col, axis=1, inplace=True)\n",
    "    \n",
    "    return data, le"
   ]
  },
  {
   "cell_type": "code",
   "execution_count": 364,
   "metadata": {
    "collapsed": true
   },
   "outputs": [],
   "source": [
    "def diff_days(data, col1, col2):\n",
    "    col1_to_date = pd.to_datetime(data[col1])\n",
    "    col2_to_date = pd.to_datetime(data[col2])\n",
    "    diff = (col2_to_date - col1_to_date).dt.days\n",
    "    data['diff_days'] = diff\n",
    "    \n",
    "    return data"
   ]
  },
  {
   "cell_type": "code",
   "execution_count": 365,
   "metadata": {
    "collapsed": false
   },
   "outputs": [],
   "source": [
    "train_clean = data_clean(train)\n",
    "train_clean.dropna(subset=['violator_name', 'mailing_address_str_name', 'hearing_date'], inplace=True)\n",
    "test_clean = data_clean(test)"
   ]
  },
  {
   "cell_type": "code",
   "execution_count": 366,
   "metadata": {
    "collapsed": true
   },
   "outputs": [],
   "source": [
    "train_clean_ohe = one_hot_encoding(train_clean, 'agency_name', 'disposition')\n",
    "test_clean_ohe = one_hot_encoding(test_clean, 'agency_name', 'disposition')"
   ]
  },
  {
   "cell_type": "code",
   "execution_count": 367,
   "metadata": {
    "collapsed": false
   },
   "outputs": [],
   "source": [
    "train_clean_le, le = label_encoder(train_clean_ohe, 'zip_code', 'zip_code_le')\n",
    "test_clean_le, _ = label_encoder(test_clean_ohe, 'zip_code', 'zip_code_le', le)\n",
    "\n",
    "train_clean_le, le = label_encoder(train_clean_le, 'violation_code', 'violation_code_le')\n",
    "test_clean_le, _ = label_encoder(test_clean_le, 'violation_code', 'violation_code_le', le)"
   ]
  },
  {
   "cell_type": "code",
   "execution_count": 368,
   "metadata": {
    "collapsed": false
   },
   "outputs": [],
   "source": [
    "train_clean_diff = diff_days(train_clean_le, 'ticket_issued_date', 'hearing_date')\n",
    "test_clean_diff = diff_days(test_clean_le, 'ticket_issued_date', 'hearing_date')"
   ]
  },
  {
   "cell_type": "code",
   "execution_count": 369,
   "metadata": {
    "collapsed": true
   },
   "outputs": [],
   "source": [
    "train_simple = create_simple(train_clean_diff)\n",
    "test_simple = create_simple(test_clean_diff)"
   ]
  },
  {
   "cell_type": "code",
   "execution_count": 370,
   "metadata": {
    "collapsed": false
   },
   "outputs": [
    {
     "name": "stderr",
     "output_type": "stream",
     "text": [
      "/opt/conda/lib/python3.6/site-packages/pandas/core/indexing.py:297: SettingWithCopyWarning: \n",
      "A value is trying to be set on a copy of a slice from a DataFrame.\n",
      "Try using .loc[row_indexer,col_indexer] = value instead\n",
      "\n",
      "See the caveats in the documentation: http://pandas.pydata.org/pandas-docs/stable/indexing.html#indexing-view-versus-copy\n",
      "  self.obj[key] = _infer_fill_value(value)\n",
      "/opt/conda/lib/python3.6/site-packages/pandas/core/indexing.py:477: SettingWithCopyWarning: \n",
      "A value is trying to be set on a copy of a slice from a DataFrame.\n",
      "Try using .loc[row_indexer,col_indexer] = value instead\n",
      "\n",
      "See the caveats in the documentation: http://pandas.pydata.org/pandas-docs/stable/indexing.html#indexing-view-versus-copy\n",
      "  self.obj[item] = s\n",
      "/opt/conda/lib/python3.6/site-packages/ipykernel/__main__.py:6: SettingWithCopyWarning: \n",
      "A value is trying to be set on a copy of a slice from a DataFrame\n",
      "\n",
      "See the caveats in the documentation: http://pandas.pydata.org/pandas-docs/stable/indexing.html#indexing-view-versus-copy\n"
     ]
    }
   ],
   "source": [
    "train_simple.loc[:, 'disposition_Responsible (Fine Waived) by Admis'] = '0'\n",
    "train_simple.loc[:, 'disposition_Responsible - Compl/Adj by Default'] = '0'\n",
    "train_simple.loc[:, 'disposition_Responsible - Compl/Adj by Determi'] = '0'\n",
    "train_simple.loc[:, 'disposition_Responsible by Dismissal'] = '0'\n",
    "test_simple.loc[:, 'agency_name_Health Department'] = '0'\n",
    "train_simple.drop('agency_name_Neighborhood City Halls', 1, inplace=True)"
   ]
  },
  {
   "cell_type": "code",
   "execution_count": 371,
   "metadata": {
    "collapsed": false
   },
   "outputs": [
    {
     "name": "stderr",
     "output_type": "stream",
     "text": [
      "/opt/conda/lib/python3.6/site-packages/ipykernel/__main__.py:1: SettingWithCopyWarning: \n",
      "A value is trying to be set on a copy of a slice from a DataFrame\n",
      "\n",
      "See the caveats in the documentation: http://pandas.pydata.org/pandas-docs/stable/indexing.html#indexing-view-versus-copy\n",
      "  if __name__ == '__main__':\n"
     ]
    }
   ],
   "source": [
    "train_simple.drop('ticket_id', 1, inplace=True)"
   ]
  },
  {
   "cell_type": "code",
   "execution_count": 378,
   "metadata": {
    "collapsed": false
   },
   "outputs": [
    {
     "name": "stdout",
     "output_type": "stream",
     "text": [
      "<class 'pandas.core.frame.DataFrame'>\n",
      "Int64Index: 61001 entries, 0 to 61000\n",
      "Data columns (total 26 columns):\n",
      "ticket_id                                                     61001 non-null int64\n",
      "violation_street_number                                       61001 non-null float64\n",
      "fine_amount                                                   61001 non-null float64\n",
      "admin_fee                                                     61001 non-null float64\n",
      "state_fee                                                     61001 non-null float64\n",
      "late_fee                                                      61001 non-null float64\n",
      "discount_amount                                               61001 non-null float64\n",
      "clean_up_cost                                                 61001 non-null float64\n",
      "judgment_amount                                               61001 non-null float64\n",
      "lat                                                           61001 non-null float64\n",
      "lon                                                           61001 non-null float64\n",
      "agency_name_Buildings, Safety Engineering & Env Department    61001 non-null uint8\n",
      "agency_name_Department of Public Works                        61001 non-null uint8\n",
      "agency_name_Detroit Police Department                         61001 non-null uint8\n",
      "disposition_Responsible (Fine Waived) by Admis                61001 non-null uint8\n",
      "disposition_Responsible (Fine Waived) by Deter                61001 non-null uint8\n",
      "disposition_Responsible - Compl/Adj by Default                61001 non-null uint8\n",
      "disposition_Responsible - Compl/Adj by Determi                61001 non-null uint8\n",
      "disposition_Responsible by Admission                          61001 non-null uint8\n",
      "disposition_Responsible by Default                            61001 non-null uint8\n",
      "disposition_Responsible by Determination                      61001 non-null uint8\n",
      "disposition_Responsible by Dismissal                          61001 non-null uint8\n",
      "zip_code_le                                                   61001 non-null int64\n",
      "violation_code_le                                             61001 non-null int64\n",
      "diff_days                                                     58804 non-null float64\n",
      "agency_name_Health Department                                 61001 non-null object\n",
      "dtypes: float64(11), int64(3), object(1), uint8(11)\n",
      "memory usage: 8.1+ MB\n"
     ]
    }
   ],
   "source": [
    "test_simple.info()"
   ]
  },
  {
   "cell_type": "markdown",
   "metadata": {},
   "source": [
    "# PCA with normalization"
   ]
  },
  {
   "cell_type": "code",
   "execution_count": 239,
   "metadata": {
    "collapsed": false
   },
   "outputs": [],
   "source": [
    "# from sklearn import preprocessing\n",
    "# my_best_df = pd.DataFrame()\n",
    "# my_best_df_cat = pd.DataFrame()\n",
    "# for col in train:\n",
    "#     if type(train[col][0]) == np.float64:\n",
    "#         my_best_df[col] = train[col]\n",
    "#     else:\n",
    "#         my_best_df_cat[col] = train[col]\n",
    "# names = my_best_df.columns\n",
    "# minMaxScaler = preprocessing.MinMaxScaler()\n",
    "# my_best_df_norm = minMaxScaler.fit_transform(my_best_df)\n",
    "# scaled_df = pd.DataFrame(my_best_df_norm, columns=names)\n",
    "# train_norm = pd.concat([scaled_df, my_best_df_cat], axis=1)\n",
    "# train_norm.head(3)"
   ]
  },
  {
   "cell_type": "code",
   "execution_count": 240,
   "metadata": {
    "collapsed": false
   },
   "outputs": [],
   "source": [
    "# train_norm = train_norm[['violation_street_number', 'fine_amount',\n",
    "#        'admin_fee', 'state_fee', 'late_fee', 'discount_amount',\n",
    "#        'clean_up_cost', 'judgment_amount', 'payment_amount', 'balance_due',\n",
    "#        'lat', 'lon', 'disposition']]"
   ]
  },
  {
   "cell_type": "code",
   "execution_count": 241,
   "metadata": {
    "collapsed": false
   },
   "outputs": [],
   "source": [
    "# train_norm_encode = pd.get_dummies(train_norm, columns=['disposition'])\n",
    "# train_norm_encode = train_norm_encode.dropna()\n",
    "\n",
    "# disposition = pd.get_dummies(my_best_df_cat['disposition'])"
   ]
  },
  {
   "cell_type": "code",
   "execution_count": 242,
   "metadata": {
    "collapsed": false
   },
   "outputs": [],
   "source": [
    "# train_norm_encode.drop('disposition_Responsible by Determination', 1, inplace=True)"
   ]
  },
  {
   "cell_type": "code",
   "execution_count": 243,
   "metadata": {
    "collapsed": false
   },
   "outputs": [],
   "source": [
    "# from sklearn.decomposition import PCA\n",
    "# pca = PCA(n_components=3)\n",
    "# train_pca = pca.fit_transform(train_norm_encode)"
   ]
  },
  {
   "cell_type": "code",
   "execution_count": 244,
   "metadata": {
    "collapsed": false
   },
   "outputs": [],
   "source": [
    "# print(pca.explained_variance_ratio_)"
   ]
  },
  {
   "cell_type": "code",
   "execution_count": 245,
   "metadata": {
    "collapsed": false
   },
   "outputs": [],
   "source": [
    "# train_df = pd.DataFrame(data=train_pca, columns=['principal_com_1', 'principal_com_2', 'principal_com_3'])"
   ]
  },
  {
   "cell_type": "code",
   "execution_count": 246,
   "metadata": {
    "collapsed": true
   },
   "outputs": [],
   "source": [
    "# test = test.drop(['violation_zip_code', 'mailing_address_str_number', 'non_us_str_code'], 1)\n",
    "# test['lat'].fillna((test['lat'].mean()), inplace=True)\n",
    "# test['lon'].fillna((test['lon'].mean()), inplace=True)"
   ]
  },
  {
   "cell_type": "code",
   "execution_count": 247,
   "metadata": {
    "collapsed": false
   },
   "outputs": [],
   "source": [
    "# from sklearn import preprocessing\n",
    "# my_best_df_test = pd.DataFrame()\n",
    "# my_best_df_cat_test = pd.DataFrame()\n",
    "# for col in test:\n",
    "#     if type(test[col][0]) == np.float64:\n",
    "#         my_best_df[col] = test[col]\n",
    "#     else:\n",
    "#         my_best_df_cat_test[col] = test[col]\n",
    "# names = my_best_df_test.columns\n",
    "# minMaxScaler = preprocessing.MinMaxScaler()\n",
    "# my_best_df_norm_test = minMaxScaler.fit_transform(my_best_df_test)\n",
    "# scaled_df_test = pd.DataFrame(my_best_df_norm_test, columns=names)\n",
    "# train_norm_test = pd.concat([scaled_df_test, my_best_df_test], axis=1)\n",
    "# train_norm_test.head(3)"
   ]
  },
  {
   "cell_type": "markdown",
   "metadata": {},
   "source": [
    "# Baseline model - dummy classifier"
   ]
  },
  {
   "cell_type": "code",
   "execution_count": 248,
   "metadata": {
    "collapsed": false
   },
   "outputs": [],
   "source": [
    "# from sklearn.dummy import DummyClassifier\n",
    "\n",
    "# dummy_clf = DummyClassifier(strategy='most_frequent')\n",
    "# dummy_clf.fit(X_train, y_train)\n",
    "\n",
    "# dummy_clf.predict(X_test)\n",
    "# dummy_clf.score(X_test, y_test)"
   ]
  },
  {
   "cell_type": "markdown",
   "metadata": {},
   "source": [
    "# Random forest model "
   ]
  },
  {
   "cell_type": "code",
   "execution_count": 374,
   "metadata": {
    "collapsed": false
   },
   "outputs": [],
   "source": [
    "from sklearn.model_selection import train_test_split\n",
    "\n",
    "X = train_simple.loc[:, train_simple.columns != 'compliance']\n",
    "y = train_simple['compliance']\n",
    "\n",
    "X_train, X_test, y_train, y_test = train_test_split(X, y, random_state = 0)"
   ]
  },
  {
   "cell_type": "code",
   "execution_count": 375,
   "metadata": {
    "collapsed": false,
    "scrolled": true
   },
   "outputs": [
    {
     "name": "stdout",
     "output_type": "stream",
     "text": [
      "(119718, 25) (39906, 25)\n"
     ]
    }
   ],
   "source": [
    "print(X_train.shape, X_test.shape)"
   ]
  },
  {
   "cell_type": "code",
   "execution_count": 376,
   "metadata": {
    "collapsed": false
   },
   "outputs": [
    {
     "name": "stdout",
     "output_type": "stream",
     "text": [
      "Accuracy of RF classifier on training set: 0.95\n",
      "Accuracy of RF classifier on test set: 0.94\n"
     ]
    }
   ],
   "source": [
    "from sklearn.ensemble import RandomForestClassifier\n",
    "\n",
    "clf = RandomForestClassifier(max_features = 25, random_state = 0, max_depth = 9, min_samples_leaf= 3, n_estimators = 10)\n",
    "clf.fit(X_train, y_train)\n",
    "print('Accuracy of RF classifier on training set: {:.2f}'\n",
    "     .format(clf.score(X_train, y_train)))\n",
    "print('Accuracy of RF classifier on test set: {:.2f}'\n",
    "     .format(clf.score(X_test, y_test)))"
   ]
  },
  {
   "cell_type": "code",
   "execution_count": 379,
   "metadata": {
    "collapsed": false
   },
   "outputs": [],
   "source": [
    "prediction_val_data = clf.predict_proba(np.array(test_simple))\n",
    "answer = pd.Series(prediction_val_data[:,1], index = test_simple['ticket_id'].tolist())\n",
    "roc_auc_score(y_test, clf.predict_proba(X_test)[:,1])"
   ]
  },
  {
   "cell_type": "code",
   "execution_count": null,
   "metadata": {
    "collapsed": true
   },
   "outputs": [],
   "source": [
    "def blight_model():\n",
    "    \n",
    "    return answer"
   ]
  },
  {
   "cell_type": "markdown",
   "metadata": {},
   "source": [
    "# Logistic regression"
   ]
  },
  {
   "cell_type": "code",
   "execution_count": 34,
   "metadata": {
    "collapsed": true
   },
   "outputs": [],
   "source": [
    "# features_corr = train.corr()"
   ]
  },
  {
   "cell_type": "code",
   "execution_count": 262,
   "metadata": {
    "collapsed": false
   },
   "outputs": [],
   "source": [
    "# fig, ax = plt.subplots(figsize=(10,10))\n",
    "# sns.heatmap(features_corr, fmt = \".2f\", cmap=\"YlGnBu\", square = True,\n",
    "#             linewidths = 0.5, annot=True, cbar_kws = {\"shrink\": .815})\n",
    "# plt.show()"
   ]
  },
  {
   "cell_type": "code",
   "execution_count": 26,
   "metadata": {
    "collapsed": false
   },
   "outputs": [],
   "source": [
    "# X = train.drop(['compliance'], axis = 1)\n",
    "# y = train['compliance']"
   ]
  },
  {
   "cell_type": "code",
   "execution_count": 28,
   "metadata": {
    "collapsed": true
   },
   "outputs": [],
   "source": [
    "# import sklearn as sk\n",
    "# from sklearn.model_selection import train_test_split\n",
    "# X_train, X_test, y_train, y_test = train_test_split(X, y)"
   ]
  },
  {
   "cell_type": "code",
   "execution_count": 263,
   "metadata": {
    "collapsed": false
   },
   "outputs": [],
   "source": [
    "# from sklearn.linear_model import LogisticRegression\n",
    "\n",
    "# logisticregression_model = LogisticRegression(max_iter = 1000)\n",
    "# logisticregression_model.fit(X_train, y_train)"
   ]
  },
  {
   "cell_type": "code",
   "execution_count": 32,
   "metadata": {
    "collapsed": true
   },
   "outputs": [],
   "source": [
    "# train_acc_logreg = logisticregression_model.score(X_train, y_train)"
   ]
  },
  {
   "cell_type": "code",
   "execution_count": 34,
   "metadata": {
    "collapsed": true
   },
   "outputs": [],
   "source": [
    "# prediction = logisticregression_model.predict(X_test)"
   ]
  }
 ],
 "metadata": {
  "coursera": {
   "course_slug": "python-machine-learning",
   "graded_item_id": "nNS8l",
   "launcher_item_id": "yWWk7",
   "part_id": "w8BSS"
  },
  "kernelspec": {
   "display_name": "Python 3",
   "language": "python",
   "name": "python3"
  },
  "language_info": {
   "codemirror_mode": {
    "name": "ipython",
    "version": 3
   },
   "file_extension": ".py",
   "mimetype": "text/x-python",
   "name": "python",
   "nbconvert_exporter": "python",
   "pygments_lexer": "ipython3",
   "version": "3.6.2"
  }
 },
 "nbformat": 4,
 "nbformat_minor": 2
}
